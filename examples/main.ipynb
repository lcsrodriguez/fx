{
 "cells": [
  {
   "cell_type": "markdown",
   "source": [
    "Simple script"
   ],
   "metadata": {
    "collapsed": false
   },
   "id": "5bd6a9d03fd80ec7"
  },
  {
   "cell_type": "code",
   "outputs": [
    {
     "name": "stdout",
     "output_type": "stream",
     "text": [
      "Pretty printing has been turned OFF\n"
     ]
    }
   ],
   "source": [
    "%pprint\n",
    "from fxdata import *"
   ],
   "metadata": {
    "collapsed": true,
    "ExecuteTime": {
     "end_time": "2023-12-25T20:15:40.745100Z",
     "start_time": "2023-12-25T20:15:39.964126Z"
    }
   },
   "id": "initial_id",
   "execution_count": 4
  },
  {
   "cell_type": "code",
   "outputs": [],
   "source": [
    "fd = FXData()"
   ],
   "metadata": {
    "collapsed": false,
    "ExecuteTime": {
     "end_time": "2023-12-25T20:15:28.981043Z",
     "start_time": "2023-12-25T20:15:28.955774Z"
    }
   },
   "id": "18ef93f0dcc55371",
   "execution_count": 2
  },
  {
   "cell_type": "code",
   "outputs": [
    {
     "data": {
      "text/plain": "<fxdata.FXData.FXData object at 0x104820900>"
     },
     "execution_count": 5,
     "metadata": {},
     "output_type": "execute_result"
    }
   ],
   "source": [
    "fd"
   ],
   "metadata": {
    "collapsed": false,
    "ExecuteTime": {
     "end_time": "2023-12-25T20:15:42.916422Z",
     "start_time": "2023-12-25T20:15:42.758045Z"
    }
   },
   "id": "1c8a7f93d2abcd1a",
   "execution_count": 5
  },
  {
   "cell_type": "code",
   "outputs": [
    {
     "name": "stdout",
     "output_type": "stream",
     "text": [
      "Processing week 2023-40\n",
      "Processing week 2023-40 Processing week 2023-41\n",
      "Processing week 2023-41 Processing week 2023-42\n",
      "Processing week 2023-42 Processing week 2023-43\n",
      "Processing week 2023-43 Processing week 2023-44\n",
      "Processing week 2023-44 200\n",
      "200\n",
      "200\n",
      "200\n",
      "200\n"
     ]
    }
   ],
   "source": [
    "df = fd.getData(\"EURUSD\", \n",
    "                datetime(2023, 10, 4), \n",
    "                datetime(2023, 10, 31), \n",
    "                dataType=DataType.TICK\n",
    "                )"
   ],
   "metadata": {
    "collapsed": false,
    "ExecuteTime": {
     "end_time": "2023-12-25T20:16:40.112916Z",
     "start_time": "2023-12-25T20:16:23.296405Z"
    }
   },
   "id": "4a444b647b0367ff",
   "execution_count": 7
  },
  {
   "cell_type": "code",
   "outputs": [
    {
     "data": {
      "text/plain": "                               b        a\ndt                                       \n10-01-2023 21:00:35.422  1.05655  1.05745\n10-01-2023 21:02:40.483  1.05689  1.05745\n10-01-2023 21:02:52.615  1.05687  1.05745\n10-01-2023 21:02:54.174  1.05689  1.05745\n10-01-2023 21:02:54.212  1.05687  1.05745\n...                          ...      ...\n11-03-2023 20:58:51.546  1.07267  1.07333\n11-03-2023 20:58:53.231  1.07269  1.07330\n11-03-2023 20:58:54.240  1.07272  1.07327\n11-03-2023 20:58:54.260  1.07276  1.07324\n11-03-2023 20:58:55.340  1.07277  1.07323\n\n[6300013 rows x 2 columns]",
      "text/html": "<div>\n<style scoped>\n    .dataframe tbody tr th:only-of-type {\n        vertical-align: middle;\n    }\n\n    .dataframe tbody tr th {\n        vertical-align: top;\n    }\n\n    .dataframe thead th {\n        text-align: right;\n    }\n</style>\n<table border=\"1\" class=\"dataframe\">\n  <thead>\n    <tr style=\"text-align: right;\">\n      <th></th>\n      <th>b</th>\n      <th>a</th>\n    </tr>\n    <tr>\n      <th>dt</th>\n      <th></th>\n      <th></th>\n    </tr>\n  </thead>\n  <tbody>\n    <tr>\n      <th>10-01-2023 21:00:35.422</th>\n      <td>1.05655</td>\n      <td>1.05745</td>\n    </tr>\n    <tr>\n      <th>10-01-2023 21:02:40.483</th>\n      <td>1.05689</td>\n      <td>1.05745</td>\n    </tr>\n    <tr>\n      <th>10-01-2023 21:02:52.615</th>\n      <td>1.05687</td>\n      <td>1.05745</td>\n    </tr>\n    <tr>\n      <th>10-01-2023 21:02:54.174</th>\n      <td>1.05689</td>\n      <td>1.05745</td>\n    </tr>\n    <tr>\n      <th>10-01-2023 21:02:54.212</th>\n      <td>1.05687</td>\n      <td>1.05745</td>\n    </tr>\n    <tr>\n      <th>...</th>\n      <td>...</td>\n      <td>...</td>\n    </tr>\n    <tr>\n      <th>11-03-2023 20:58:51.546</th>\n      <td>1.07267</td>\n      <td>1.07333</td>\n    </tr>\n    <tr>\n      <th>11-03-2023 20:58:53.231</th>\n      <td>1.07269</td>\n      <td>1.07330</td>\n    </tr>\n    <tr>\n      <th>11-03-2023 20:58:54.240</th>\n      <td>1.07272</td>\n      <td>1.07327</td>\n    </tr>\n    <tr>\n      <th>11-03-2023 20:58:54.260</th>\n      <td>1.07276</td>\n      <td>1.07324</td>\n    </tr>\n    <tr>\n      <th>11-03-2023 20:58:55.340</th>\n      <td>1.07277</td>\n      <td>1.07323</td>\n    </tr>\n  </tbody>\n</table>\n<p>6300013 rows × 2 columns</p>\n</div>"
     },
     "execution_count": 8,
     "metadata": {},
     "output_type": "execute_result"
    }
   ],
   "source": [
    "df"
   ],
   "metadata": {
    "collapsed": false,
    "ExecuteTime": {
     "end_time": "2023-12-25T20:16:48.636275Z",
     "start_time": "2023-12-25T20:16:48.614284Z"
    }
   },
   "id": "c2b5693179f487b4",
   "execution_count": 8
  },
  {
   "cell_type": "code",
   "outputs": [],
   "source": [],
   "metadata": {
    "collapsed": false
   },
   "id": "1c632717051034cb"
  }
 ],
 "metadata": {
  "kernelspec": {
   "display_name": "Python 3",
   "language": "python",
   "name": "python3"
  },
  "language_info": {
   "codemirror_mode": {
    "name": "ipython",
    "version": 2
   },
   "file_extension": ".py",
   "mimetype": "text/x-python",
   "name": "python",
   "nbconvert_exporter": "python",
   "pygments_lexer": "ipython2",
   "version": "2.7.6"
  }
 },
 "nbformat": 4,
 "nbformat_minor": 5
}
